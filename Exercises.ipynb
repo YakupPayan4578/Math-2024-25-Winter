{
  "cells": [
    {
      "cell_type": "markdown",
      "source": [
        "# Mathematics\n",
        "\n",
        "Exercises 2024/2025\n",
        "\n",
        "## 1. Basic Operations on Matrices\n",
        "\n",
        "For follwing matrices\n",
        "\n",
        "$$\n",
        "\\mathbf{A}=\n",
        "\\begin{pmatrix}\n",
        "1 & 2 \\\\\n",
        "3 & 4\n",
        "\\end{pmatrix}\n",
        "\\qquad\n",
        "\\mathbf{B}=\n",
        "\\begin{pmatrix}\n",
        "5 & 6 \\\\\n",
        "7 & 8\n",
        "\\end{pmatrix}\n",
        "\\quad\n",
        "\\mathbf{C}=\n",
        "\\begin{pmatrix}\n",
        "-1 & 2 \\\\\n",
        "3 & 0\n",
        "\\end{pmatrix}\n",
        "\\qquad\n",
        "\\mathbf{D}=\n",
        "\\begin{pmatrix}\n",
        "-1 & 2 & 3 \\\\\n",
        "4 & 0 & 6\n",
        "\\end{pmatrix}\n",
        "\\qquad\n",
        "\\mathbf{E}=\n",
        "\\begin{pmatrix}\n",
        "1 & 2\\\\\n",
        "4 & 5\\\\\n",
        "7 & 8\n",
        "\\end{pmatrix}\n",
        "$$\n",
        "\n",
        "1. Calculate: $\\mathbf{A}+\\mathbf{B}$;  $\\mathbf{B}-\\mathbf{A}$;  $\\mathbf{A}+\\mathbf{C}$; $\\mathbf{D}+\\mathbf{E}$.\n",
        "\n",
        "2. Calculate $\\frac{1}{2}\\mathbf{A}$, $2\\mathbf{B}$, $-3\\mathbf{C}$, and $4\\mathbf{D}$.\n",
        "\n",
        "3. Calculate the products $\\mathbf{A}\\cdot \\mathbf{B}$; $\\mathbf{B} \\cdot \\mathbf{A}$; $\\mathbf{A} \\cdot \\mathbf{D}$; $\\mathbf{D} \\cdot \\mathbf{E}$.\n"
      ],
      "metadata": {
        "id": "A0l6vsE2Lby6"
      },
      "id": "A0l6vsE2Lby6"
    },
    {
      "cell_type": "markdown",
      "source": [
        "## 2. Determinants 2x2 and 3x3\n",
        "\n",
        "Calculate the determinants for the 2x2 and 3x3 matrices given below.\n",
        "\n",
        "2x2 Matrices:\n",
        "\n",
        "$$\n",
        "\\mathbf{A} =\n",
        "\\begin{pmatrix}\n",
        "2 & 3 \\\\\n",
        "1 & 4\n",
        "\\end{pmatrix}\n",
        ", \\qquad\n",
        "\\mathbf{B} =\n",
        "\\begin{pmatrix}\n",
        "5 & 6 \\\\\n",
        "7 & 8\n",
        "\\end{pmatrix}\n",
        ", \\qquad\n",
        "\\mathbf{C} =\n",
        "\\begin{pmatrix}\n",
        "-1 & 2 \\\\\n",
        "3 & 0\n",
        "\\end{pmatrix}\n",
        "$$\n",
        "\n",
        "3x3 Matrices:\n",
        "\n",
        "$$\n",
        "\\mathbf{D} =\n",
        "\\begin{pmatrix}\n",
        "1 & 0 & 2 \\\\\n",
        "-1 & 3 & 1 \\\\\n",
        "2 & 4 & -2\n",
        "\\end{pmatrix}\n",
        ", \\qquad\n",
        "\\mathbf{E} =\n",
        "\\begin{pmatrix}\n",
        "3 & 1 & -1 \\\\\n",
        "0 & 2 & 4 \\\\\n",
        "5 & 3 & 2\n",
        "\\end{pmatrix}\n",
        ", \\qquad\n",
        "\\mathbf{F} =\n",
        "\\begin{pmatrix}\n",
        "2 & -3 & 1 \\\\\n",
        "1 & 4 & -2 \\\\\n",
        "1 & 5 & 3\n",
        "\\end{pmatrix}\n",
        "$$"
      ],
      "metadata": {
        "id": "yLQDv2KBMIxM"
      },
      "id": "yLQDv2KBMIxM"
    },
    {
      "cell_type": "markdown",
      "source": [
        "## 3. Determinants using Laplace's Expansion\n",
        "\n",
        "Calculate the determinants of the following matrices:\n",
        "\n",
        "$$\n",
        "\\mathbf{A} =\n",
        "\\begin{pmatrix}\n",
        "2 & 3 & 1 \\\\\n",
        "1 & 4 & 0 \\\\\n",
        "3 & 2 & 1\n",
        "\\end{pmatrix}\n",
        ",\\qquad\n",
        "\\mathbf{B} =\n",
        "\\begin{pmatrix}\n",
        "2 & 3 & 1 \\\\\n",
        "1 & 4 & 0 \\\\\n",
        "3 & 2 & 0  \\\\\n",
        "\\end{pmatrix}\n",
        ",\\qquad\n",
        "\\mathbf{C} =\n",
        "\\begin{pmatrix}\n",
        "2 & 3 & 1 & 4 \\\\\n",
        "1 & 0 & 0 & 6 \\\\\n",
        "3 & 2 & 1 & 5 \\\\\n",
        "2 & 1 & 4 & 0\n",
        "\\end{pmatrix}\n",
        ",\\qquad\n",
        "\\mathbf{D} =\n",
        "\\begin{pmatrix}\n",
        "2 & 3 & 1 & 4 & 5 \\\\\n",
        "1 & 4 & 0 & 0 & 7 \\\\\n",
        "3 & 0 & 0 & 0 & 0 \\\\\n",
        "2 & 1 & 4 & 3 & 2 \\\\\n",
        "1 & 2 & 3 & 4 & 5\n",
        "\\end{pmatrix}\n",
        "$$"
      ],
      "metadata": {
        "id": "U4gqpap7MODd"
      },
      "id": "U4gqpap7MODd"
    },
    {
      "cell_type": "markdown",
      "source": [
        "## 4. Determinants from the Gauss Method and Triangular Matrices\n",
        "\n",
        "Perform row and column operations to reduce the following matrices to an upper triangular form and calculate their determinants by taking the product of the diagonal elements.\n",
        "\n",
        "$$\n",
        "\\mathbf{A} = \\begin{pmatrix}\n",
        "12 & 3 \\\\\n",
        "-18 & -4\n",
        "\\end{pmatrix}\\qquad\\qquad\n",
        "\\mathbf{B} = \\begin{pmatrix}\n",
        "1 & 2 & 3 \\\\\n",
        "4 & 5 & 6 \\\\\n",
        "7 & 8 & 9\n",
        "\\end{pmatrix}\n",
        "$$\n"
      ],
      "metadata": {
        "id": "b2p9vo91MRzc"
      },
      "id": "b2p9vo91MRzc"
    },
    {
      "cell_type": "markdown",
      "source": [
        "## 5. Inverse of a Matrix from the formula\n",
        "\n",
        "1. Find the inverse matrix for matrix\n",
        "\n",
        "$$\\mathbf{A}=\\begin{pmatrix}\n",
        "2 & 0 & 1 \\\\\n",
        "0 & 1 & 0 \\\\\n",
        "1 & 2 & 0\n",
        "\\end{pmatrix}$$\n",
        "\n",
        "and verify if the result is correct.\n",
        "\n",
        "2. Determine the rank of the matrix:\n",
        "\n",
        "$$\\mathbf{B} =\n",
        "\\begin{pmatrix}\n",
        "4 & -3 & 7 \\\\\n",
        "-1 & 6 & 3 \\\\\n",
        "2 & 9 & 1\n",
        "\\end{pmatrix}$$"
      ],
      "metadata": {
        "id": "Z2unl2glMVO7"
      },
      "id": "Z2unl2glMVO7"
    },
    {
      "cell_type": "markdown",
      "source": [
        "## 6. Inverse of a Matrix using the Gauss Method\n",
        "\n",
        "Find the inverse matrices using the Gauss method:\n",
        "\n",
        "$$\n",
        "\\mathbf{A} =\n",
        "\\begin{pmatrix}\n",
        "1 & 2\\\\\n",
        "3 & 4\n",
        "\\end{pmatrix}\n",
        ", \\qquad\n",
        "\\mathbf{B} =\n",
        "\\begin{pmatrix}\n",
        "1 & 2 & 3 \\\\\n",
        "4 & 5 & 1 \\\\\n",
        "2 & 3 & 2\n",
        "\\end{pmatrix}\n",
        ",\\qquad\n",
        "\\mathbf{C} =\n",
        "\\begin{pmatrix}\n",
        "0 & 0 & 1\\\\\n",
        "0 & 1 & 0\\\\\n",
        "1 & 0 & 0\n",
        "\\end{pmatrix}\n",
        "$$\n"
      ],
      "metadata": {
        "id": "KJG3fXeMMXhZ"
      },
      "id": "KJG3fXeMMXhZ"
    },
    {
      "cell_type": "markdown",
      "source": [
        "## 7. Linear Equations old school\n",
        "\n",
        "Solve the following systems of equations without using matrices:\n",
        "\n",
        "* $3x-2y=5, \\quad 2x+3y=7$,\n",
        "* $2x-3y=10, \\quad 4x+5y=20$,\n",
        "* $2x - y + z = 3, \\quad x + 2y - z = 1, \\quad 3x - y + 2z = 11$.\n",
        "* $2x-3y+4z+2t=2, \\quad 3x+2y-5z+3t=3, \\quad 4x-3y+2z-5t=4, \\quad 5x+4y-3z+2t=5$.\n"
      ],
      "metadata": {
        "id": "D3PUheEdMbGe"
      },
      "id": "D3PUheEdMbGe"
    },
    {
      "cell_type": "markdown",
      "source": [
        "## 8. Linear equations by Cramer's Rule\n",
        "\n",
        "1. Solve the system of equations:\n",
        "\n",
        "$$\\begin{cases}\n",
        "   2x_1 - 3x_2 = 7\\\\\n",
        "   3x_1 + 5x_2 = 2\n",
        "\\end{cases}$$\n",
        "\n",
        "2. Solve the system of equations:\n",
        "\n",
        "$$\\begin{cases}\n",
        "   2x + y - z = 1 \\\\\n",
        "   x - y + 2z = 4 \\\\\n",
        "   3x - 2z = -1\n",
        "\\end{cases}$$\n",
        "\n",
        "3. Solve the system of equations:\n",
        "\n",
        "$$\\begin{cases}\n",
        "   x + y + z - t = 2 \\\\\n",
        "   x - z + 2t = 6 \\\\\n",
        "   2x - 3y + t = 4 \\\\\n",
        "   3x + y + 3z - 4t = -2\n",
        "\\end{cases}$$\n",
        "\n",
        "4. Why can't the following system of equations be solved using Cramer's rule?\n",
        "\n",
        "$$\\begin{cases}\n",
        "x_1 + 2x_2 + 3x_3 = 3 \\\\\n",
        "4x_1 + 5x_2 + 6x_3 = 2 \\\\\n",
        "7x_1 + 8x_2 + 9x_3 = 1\n",
        "\\end{cases}$$"
      ],
      "metadata": {
        "id": "jeHgAzSaMfTL"
      },
      "id": "jeHgAzSaMfTL"
    },
    {
      "cell_type": "markdown",
      "source": [
        "## 9. Linear equations by Gauss Elimination\n",
        "\n",
        "$$\\begin{cases}\n",
        "x + 2y - 2z = 4 \\\\\n",
        "2x + y + z = 0 \\\\\n",
        "3x + 2y + z = 1\n",
        "\\end{cases}\n",
        "\\quad\n",
        "\\begin{cases}\n",
        "x + y + z - t = 2 \\\\\n",
        "2x + y + z = 3 \\\\\n",
        "-x + z - t = 0 \\\\\n",
        "3x + 2y - z + 2t = -1\n",
        "\\end{cases}\n",
        "\\quad\n",
        "\\begin{cases}\n",
        "x + y - z - t = 0 \\\\\n",
        "2x + 3y - 2z + t = 4 \\\\\n",
        "3x + 5z = 0 \\\\\n",
        "-x + y - 3z + 2t = 3\n",
        "\\end{cases}\n",
        "$$\n"
      ],
      "metadata": {
        "id": "tzxGYCG6MiPx"
      },
      "id": "tzxGYCG6MiPx"
    },
    {
      "cell_type": "markdown",
      "source": [
        "## 10. Linear equations by Matrix Inversion\n",
        "\n",
        "1. Solve the system of linear equations using the inverse matrix method:\n",
        "\n",
        "$$\n",
        "\\begin{cases}\n",
        "x + 2y + 3z = 5, \\\\\n",
        "2y + 3z = 4, \\\\\n",
        "3z = 3.\n",
        "\\end{cases}\n",
        "$$\n",
        "\n",
        "2. Solve the system of linear equations using the inverse matrix method:\n",
        "\n",
        "$$\n",
        "\\begin{cases}\n",
        "x_1 + 2x_2 + 3x_3 = 41, \\\\\n",
        "4x_1 + 5x_2 + 6x_3 = 93, \\\\\n",
        "7x_1 + 8x_2 + 9x_3 = 145.\n",
        "\\end{cases}\n",
        "$$"
      ],
      "metadata": {
        "id": "fTvIUyBkMmLD"
      },
      "id": "fTvIUyBkMmLD"
    },
    {
      "cell_type": "markdown",
      "source": [
        "## 11. Vectors I\n",
        "\n",
        "1. By what number should vector $\\mathbf{a} = [3, 4]$ be multiplied so that its length is equal to 1?\n",
        "\n",
        "2. Calculate the length of vector $\\mathbf{b} = [1, 1]$ and find the unit vector of this vector.\n",
        "\n",
        "3. Plot the vector and the unit vector from the previous exercise.\n",
        "\n",
        "4. Calculate the length of vector $\\mathbf{c} = [1, 2, 3]$ and find the unit vector of this vector.\n",
        "\n",
        "5. Find the Cartesian coordinates of vector $\\mathbf{v} = [2, 3, 4]$ in the basis $\\{\\mathbf{b_1} = [1, 0, 1], \\mathbf{b_2} = [0, 1, 0], \\mathbf{b_3} = [1, 0, -1]\\}$."
      ],
      "metadata": {
        "id": "EoZhiP6oMpU_"
      },
      "id": "EoZhiP6oMpU_"
    },
    {
      "cell_type": "markdown",
      "source": [
        "## 12. Vectors II\n",
        "\n",
        "1. Perform the addition of vector $[2, 1]$ to vector $[-1, 1]$. Plot both vectors and their sum on a graph.\n",
        "\n",
        "2. Calculate the area of the triangle spanned by vectors $[2, 1]$ and $[-1, 1]$.\n",
        "\n",
        "3. Calculate the volume of the parallelepiped spanned by vectors $[2, 1]$, $[-1, 1]$, and $[1, 2]$.\n",
        "\n",
        "4. Check if vectors $[2, 1]$ and $[-1, 1]$ are perpendicular.\n",
        "\n",
        "5. Calculate the angle in degrees between vectors $[4,2,1]$ and $[1,3,2]$.\n",
        "\n",
        "6. For three-dimensional vectors: $\\mathbf{a}=[a_x, a_y, a_z]$, $\\mathbf{b}=[b_x, b_y, b_z]$, $\\mathbf{c}=[c_x, c_y, c_z]$, prove that the following identity is satisfied:\n",
        "\n",
        "$$\n",
        "\\mathbf{a} \\times (\\mathbf{b} \\times \\mathbf{c}) = (\\mathbf{a} \\cdot \\mathbf{c}) \\mathbf{b} - (\\mathbf{a} \\cdot \\mathbf{b}) \\mathbf{c}.\n",
        "$$"
      ],
      "metadata": {
        "id": "0BoI2oOIMsgX"
      },
      "id": "0BoI2oOIMsgX"
    },
    {
      "cell_type": "markdown",
      "source": [
        "## 13. Vectors III\n",
        "\n",
        "1. Divide the line segment connecting points $A(-1, 2)$ and $B(3, -2)$ in the ratio $1:3$. Illustrate the result on a graph.\n",
        "\n",
        "2. Project vector $\\mathbf{a} = (3, 4)$ onto the $OX$ and $OY$ axes. Illustrate the result on a graph.\n",
        "\n",
        "3. Project vector $\\mathbf{a} = (2,3)$ onto vector $\\mathbf{b} = (1, 1)$. Ilustrate the result on a graph.\n",
        "\n",
        "4. Project vector $\\mathbf{b} = (1, 1)$ onto vector $\\mathbf{a} = (2, 3)$. Ilustrate the result on a graph."
      ],
      "metadata": {
        "id": "9OyyEWyMMucv"
      },
      "id": "9OyyEWyMMucv"
    },
    {
      "cell_type": "markdown",
      "source": [
        "## 14. Equations of lines on a plane\n",
        "\n",
        "* The line passes through points $A(1, 2)$ and $B(3, 4)$. Find the equation of the line.\n",
        "* The line passes through point $A(1, 2)$ and is parallel to the line $y = 2x + 3$. Find the equation of the line.\n",
        "* The line passes through point $A(1, 2)$ and is perpendicular to the line $y = 2x + 3$. Find the equation of the line.\n",
        "* We have two lines $y = 2x + 3$ and $y = 3x + 2$. Find the intersection point of these lines and calculate the angle between them.\n",
        "* Write the equation of the line passing through point $A(1, 2)$ and parallel to the vector $\\mathbf{v} = [2, 3]$.\n",
        "* We have the line $y = 2x + 3$. Find an example of a line perpendicular and parallel to it.\n",
        "* We have the line $y = 2x + 3$ and point $A(1, 2)$. Find the distance from point $A$ to the line.\n",
        "* The line intersects the coordinate axes at points $A(2, 0)$ and $B(0, 3)$. Find the equation of the line.\n",
        "* Calculate the angle between the line $y = x + 3$ and the $Ox$ axis.\n",
        "* Provide a vector perpendicular to the line $x + y + 1 = 0$.\n"
      ],
      "metadata": {
        "id": "SX5XB0RWMw9B"
      },
      "id": "SX5XB0RWMw9B"
    },
    {
      "cell_type": "markdown",
      "source": [
        "## 15. Equations of second-order curves (conic sections)\n",
        "\n",
        "* Find the equation of a circle with center at point $A(1,2)$ and radius $r=3$.\n",
        "* Find the equation of a parabola intersecting the $Ox$ axis at points $x=2$, $x=4$, and passing through point $y(3)=1$.\n",
        "* Find the center of the ellipse with the equation $x^2 + 4y^2 - 4x - 16y + 16 = 0$.\n",
        "* Find the slope ($m>0$) of the line $y=mx-5$ that is tangent to the circle with the equation $x^2 + y^2=1$.\n",
        "* Find the intersection points of the hyperbola $x^2 - y^2 = 1$ with the ellipse's line $x^2 + 4y^2 = 6$.\n",
        "* For the given hyperbola $x^2 - y^2 = 1$, find the distance between its branches.\n"
      ],
      "metadata": {
        "id": "kCnSZmf3Mzqr"
      },
      "id": "kCnSZmf3Mzqr"
    },
    {
      "cell_type": "markdown",
      "source": [
        "## 16. Equations of planes in space\n",
        "\n",
        "* The plane passes through points $A(1, 2, 3)$, $B(3, 4, 5)$, and $C(2, 1, 4)$. Find the equation of the plane.\n",
        "* The plane passes through point $A(1, 2, 3)$ and is parallel to the plane $2x + 3y + 4z = 5$. Find the equation of the plane.\n",
        "* The plane passes through point $A(1, 2, 3)$ and is perpendicular to the normal vector $\\mathbf{n} = [2, 3, 4]$. Find the equation of the plane.\n",
        "* We have two planes $2x + 3y + 4z = 5$ and $3x + 4y + 2z = 6$. Find the line of intersection of these planes.\n",
        "* Write the equation of the plane passing through point $A(1, 2, 3)$ and parallel to vectors $\\vec{v_1} = [1, 0, 1]$ and $\\vec{v_2} = [0, 1, -1]$.\n",
        "* We have the plane $2x + 3y + 4z = 5$. Find an example of a plane parallel and perpendicular to it.\n",
        "* We have the plane $2x + 3y + 4z = 5$ and point $A(1, 2, 3)$. Find the distance from point $A$ to this plane.\n",
        "* The plane intersects the coordinate axes at points $A(2, 0, 0)$, $B(0, 3, 0)$, and $C(0, 0, 4)$. Find the equation of the plane.\n",
        "* Calculate the angle between the plane $x + y + z = 1$ and the plane $x = 0$ (i.e., the $yz$ plane).\n",
        "* Find the vector perpendicular to the plane $x + y + z = 1$.\n"
      ],
      "metadata": {
        "id": "tk1V3IQwM2Qh"
      },
      "id": "tk1V3IQwM2Qh"
    },
    {
      "cell_type": "markdown",
      "source": [
        "## 17. Equations of second-order surfaces\n",
        "\n",
        "* Write the equation of a sphere with center at point $P=(1,2,3)$ and radius $r=3$.\n",
        "* Do the spheres with equations $x^2 + y^2 + z^2 = 1$ and $x^2 + y^2 + z^2 = 2$ have any common points?\n",
        "* What curve in space is formed by the intersection of the sphere $x^2 + y^2 + z^2 = 1$ with the sphere $(x-1)^2 + y^2 + z^2 = 1$? Find the equation of this curve.\n",
        "* Write the equation of the tangent plane to the paraboloid $z=(x-1)^2+y^2+1$ at point $P(1,0,1)$.\n"
      ],
      "metadata": {
        "id": "FPKgqwheM5Dr"
      },
      "id": "FPKgqwheM5Dr"
    },
    {
      "cell_type": "markdown",
      "source": [
        "## 18. Functions\n",
        "\n",
        "1. Draw in a single Geogebra notebook the following functions:\n",
        "   - $f(x) = x^2$\n",
        "   - $g(x) = \\sqrt{x}$\n",
        "   - $h(x) = \\frac{1}{x}$\n",
        "   - $j(x) = \\sin(x)$\n",
        "\n",
        "Find value of all the above functions at $x = 2$.\n",
        "\n",
        "2. Let $f(x) = 3x - 1$ and $g(x) = \\sqrt{x}$. Find:\n",
        "   - $f(g(x))$\n",
        "   - $g(f(x))$\n",
        "   - $f(f(x))$\n",
        "   - $g(g(x))$\n",
        "\n",
        "and visualize functions in a single Geogebra notebook.\n",
        "\n",
        "3. Let $f(x) = e^x$ and $g(x) = \\ln(x)$. Check: $f(g(x))$ and $g(f(x))$. What do you notice?\n",
        "\n",
        "4. We have function $f=\\{(1,7), (2,9), (3,11)\\}$. Give inverse function $f^{-1}$.\n",
        "\n",
        "5. We have function $f=\\{(1,7), (2,7), (3,11)\\}$. Give inverse function $f^{-1}$.\n",
        "\n",
        "6. We have function $f(x)= x-1$. Give inverse function $f^{-1}$. Show both functions on the same Geogebra notebook.\n"
      ],
      "metadata": {
        "id": "1WLBMu0sM8kp"
      },
      "id": "1WLBMu0sM8kp"
    },
    {
      "cell_type": "markdown",
      "source": [
        "## 19. Limits of Sequences\n",
        "\n",
        "1. Calculate:\n",
        "   - $\\displaystyle \\lim_{n \\to \\infty} \\frac{n^2 + 3n}{2 n^2 - 2n}$\n",
        "\n",
        "   - $\\displaystyle \\lim_{n \\to \\infty} \\frac{(2n+3)^3}{n^3-1}$\n",
        "\n",
        "2. Prove using the squeeze theorem:\n",
        "   - $\\displaystyle\\lim_{n \\to \\infty} \\frac{\\sin(n)}{n}$\n",
        "\n",
        "4. Find the limit of the sequence:\n",
        "   - $a_n = (1+\\frac{1}{n})^n$\n"
      ],
      "metadata": {
        "id": "BAWUZUF_M_cl"
      },
      "id": "BAWUZUF_M_cl"
    },
    {
      "cell_type": "markdown",
      "source": [
        "## 20. Limits of Real Functions\n",
        "\n",
        "1. Compute:\n",
        "   - $\\displaystyle\\lim_{x \\to \\infty} \\frac{x^3 + 2x^2}{x^4 - 3x^3}$\n",
        "\n",
        "2. Find:\n",
        "   \n",
        "   - $\\displaystyle \\lim_{x \\to 0} \\frac{\\sin(3x)}{2x+1}$.\n",
        "\n",
        "4. Find the asymptotes of the function:\n",
        "  \n",
        "   - $f(x) = \\frac{x^2 - 1}{x^2 + 1}$\n",
        "   - $g(x) = \\frac{\\sin(x)}{x^2+1}$"
      ],
      "metadata": {
        "id": "M42zldV8NBxf"
      },
      "id": "M42zldV8NBxf"
    },
    {
      "cell_type": "markdown",
      "source": [
        "## 21. Derivatives\n",
        "\n",
        "1. Compute derivatives of functions:\n",
        "   * $y(x) = -3x+3$\n",
        "   * $y(x) = \\pi x + \\sin(1)$\n",
        "   * $y(x) = 4+\\sin(2)$\n",
        "   * $y(x) = 2x^3 - 3x^2 + 8x - 9$\n",
        "   * $y(x) = 6 x^{1/3}$\n",
        "   * $y(x) = \\sqrt{x}$\n",
        "   * $y(x) = \\cos(x) + \\sin(x)$\n",
        "   * $y(x) = 2\\sin(x) \\cos(x)$\n",
        "   * $y(x) = x\\sin(x)$\n",
        "   * $y(x) = (x+1)(x+1)$\n",
        "   * $y(x) = \\frac{x}{x+1}$\n",
        "   * $y(x) = (x+1)\\exp(x)$\n",
        "   * $y(x) = \\sin(x^2)$\n",
        "   * $y(x) = \\exp(-2x)$\n",
        "   * $y(x) = \\frac{1}{\\sin(x+1)}$\n",
        "   * $y(x) = \\sqrt{2x+1}$\n",
        "\n",
        "2. Prove:\n",
        "   - $\\frac{d}{dx} (\\ln(\\sin(x))) = \\cot(x)$\n",
        "\n",
        "3. For $f(x) = \\cos(x)$, verify that $f''(x) = -f(x)$.\n",
        "\n",
        "4. Using de l'Hospital's Rule, find the improper limits:\n",
        "   - $\\displaystyle \\lim_{x\\to 0} \\frac{\\sin{x}}{x}$\n",
        "\n",
        "   - $\\displaystyle \\lim_{x\\to \\infty} \\frac{\\ln x}{x}$\n",
        "\n",
        "   - $\\displaystyle \\lim_{x\\to \\infty} \\frac{\\exp(x)}{x}$\n",
        "\n",
        "5. In physics, the position of a particle is given by $x(t) = 3t^2 - 6t + 1$. Find the velocity $V(t)=x'(t)$ and acceleration $a(t)=V'(t)=x''(t)$ of the particle at time $t = 2$."
      ],
      "metadata": {
        "id": "VdzWeLsDNGBR"
      },
      "id": "VdzWeLsDNGBR"
    },
    {
      "cell_type": "markdown",
      "source": [
        "## 22. Extremum\n",
        "\n",
        "6. The profit function is $P(u) = -2u^2 + 50u - 300$, where $u$ is the number of units sold. Find the number of units that maximize profit.\n",
        "\n",
        "7. You have 10 meters of string, and you need to use it to enclose the largest possible rectangular. Find the dimensions of the rectangle.\n",
        "\n",
        "8. Find extremum od $f(x) = x^2 + 3x - 5$.\n",
        "\n",
        "9. Find extremum of $f(x) =\\frac{x^2+2x+1}{x-1}$.\n"
      ],
      "metadata": {
        "id": "j_iPvMStNJ-V"
      },
      "id": "j_iPvMStNJ-V"
    },
    {
      "cell_type": "markdown",
      "source": [
        "## 23. Taylor Series\n",
        "\n",
        "1. Find the Taylor series and visualize obtained functions in Geogebra:\n",
        "   - $f(x) = \\cos(x)$ around $x = 0$ up to the 4th degree.\n",
        "   - $h(x) = 1/(1-x)$ around $x = 0$ up to the 4rd degree.\n",
        "   - $g(x) = \\sin(x)$ around $x = \\pi$ up to the 4rd degree.\n",
        "\n",
        "2. Find a tangent line $y = f'(x_0) (x-x_0) + f(x_0)$ to the function $f(x) = e^{\\sin(x)}$ at $x_0 = \\pi$. Hints for Geogebra visualization: define f(x), include slider s, define y = f'(s) (x-s) + f(s), and include point P(s, f(s))."
      ],
      "metadata": {
        "id": "OR-lbuFhNLtj"
      },
      "id": "OR-lbuFhNLtj"
    },
    {
      "cell_type": "markdown",
      "source": [
        "## 24. Integrals\n",
        "\n",
        "1. Compute:\n",
        "   - $\\int 1 dx$\n",
        "   - $\\int (x^2 +2) dx$\n",
        "   - $\\int 2\\sin(x) dx$\n",
        "   - $\\int \\frac{3}{x} dx$\n",
        "   - $\\int \\frac{1}{x^2} dx$\n",
        "   - $\\int \\left( \\frac{1}{3}x^4 - 5 \\right) \\, dx$\n",
        "   - $\\int (\\sin^2 x + \\cos^2 x) \\, dx$\n",
        "   - $\\int (5 \\sin x + 3e^x) \\, dx$\n",
        "   - $\\int \\sqrt[3]{x} \\, dx$\n",
        "   - $\\int \\sqrt{10x} \\, dx$\n",
        "   - $\\int \\cos\\left(\\frac{5}{2}x + 3\\right) \\, dx$\n",
        "   - $\\int \\frac{\\cos(\\ln(x))}{x} \\, dx$\n",
        "   - $\\int x \\ln(x) \\, dx$\n",
        "   - $\\int x e^x \\, dx$\n",
        "\n",
        "2. Calculate integrals over the interval $[0, \\pi]$ and visualize them in Geogebra:\n",
        "   - $f(x)=2x+1$\n",
        "   - $g(x)=x^2$\n",
        "\n",
        "3. Calculate the area of the region bounded by the lines:\n",
        "$x = 1$, $x = 2$, $y = 0$, and $y = x^2 + 1$. Show it in Geogebra.\n",
        "\n",
        "4. Calculate the area under the sine curve over the interval $[0, \\pi]$, using:\n",
        "\n",
        "$$P = \\int_a^b f(x) \\, dx = \\int_0^\\pi \\sin(x) \\, dx$$\n",
        "\n",
        "5. Calculate the length of the sine curve over the same interval using:\n",
        "\n",
        "$$L = \\int_a^b \\sqrt{1 + (f'(x))^2} \\, dx= \\int_0^\\pi \\sqrt{1 + \\cos^2(x)} \\, dx\n",
        "$$\n",
        "\n",
        "6. Find the distance of the moving particle between time $t=0$ and $t=2$ for the following position function: $x(t) = 3t^2 - 6t + 1$.\n"
      ],
      "metadata": {
        "id": "HxkXleIXNPP3"
      },
      "id": "HxkXleIXNPP3"
    },
    {
      "cell_type": "markdown",
      "source": [
        "## 25. Differential Equations\n",
        "\n",
        "1. Solve the following first-order ordinary differential equations:\n",
        "   - $y'(x)= y$\n",
        "   - $y'(x) = \\frac{1}{2y(x)}$\n",
        "  \n",
        "3. Solve the first-order ordinary differential equations using the method of separation of variables for $x$ and $y=y(x)$:\n",
        "\n",
        "   - $\\frac{dy}{dx} = \\frac{x}{y}$\n",
        "   - $\\frac{dy}{dx} = \\frac{y}{x}$\n",
        "   - $\\frac{dy}{dx} = xy$\n",
        "\n",
        "4. Solve the second-order ordinary differential equations:\n",
        "\n",
        "   * $y''(x) + y'(x) = 0$, with boundary conditions $y(0) = 2$ and $y'(0) = -1$\n",
        "\n",
        "   * $y''(x) - y(x)= 0$, with boundary conditions $y(0) = 2$ and $y'(0) = 0$\n",
        "\n",
        "   * $\\frac{d^2\\,y(x)}{dx^2} = -\\omega^2 y(x)$.\n",
        "\n",
        "5. Check if the function $\\psi(t, x) = A \\cos(\\omega t + kx)$ is a solution of the second-order partial differential equation (the so-called \"wave equation\"), where $v = \\frac{\\omega}{k} = \\frac{2\\pi / T}{2\\pi / \\lambda}$:\n",
        "\n",
        "$$\n",
        "\\frac{\\partial^2 \\psi(t, x)}{\\partial t^2} - v^2 \\frac{\\partial^2 \\psi(t, x)}{\\partial x^2} = 0.\n",
        "$$"
      ],
      "metadata": {
        "id": "mL0u5l5yNTVx"
      },
      "id": "mL0u5l5yNTVx"
    }
  ],
  "metadata": {
    "kernelspec": {
      "display_name": "Python 3 (ipykernel)",
      "language": "python",
      "name": "python3"
    },
    "language_info": {
      "codemirror_mode": {
        "name": "ipython",
        "version": 3
      },
      "file_extension": ".py",
      "mimetype": "text/x-python",
      "name": "python",
      "nbconvert_exporter": "python",
      "pygments_lexer": "ipython3",
      "version": "3.12.7"
    },
    "colab": {
      "provenance": []
    }
  },
  "nbformat": 4,
  "nbformat_minor": 5
}