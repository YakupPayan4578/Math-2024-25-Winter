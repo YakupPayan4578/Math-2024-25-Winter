{
  "cells": [
    {
      "cell_type": "markdown",
      "metadata": {
        "id": "a35225a971U6"
      },
      "source": [
        "# Triangular Matrices and determinant calculation"
      ]
    },
    {
      "cell_type": "code",
      "execution_count": 1,
      "metadata": {
        "colab": {
          "base_uri": "https://localhost:8080/",
          "height": 107
        },
        "id": "AE9WuHpB71U7",
        "outputId": "899cabbc-1a1e-40a9-db44-da0ca0ac6f44"
      },
      "outputs": [
        {
          "output_type": "display_data",
          "data": {
            "text/plain": [
              "<IPython.core.display.Markdown object>"
            ],
            "text/markdown": "**Initial Matrix:**"
          },
          "metadata": {}
        },
        {
          "output_type": "display_data",
          "data": {
            "text/plain": [
              "Matrix([\n",
              "[1, 2, 3],\n",
              "[2, 5, 3],\n",
              "[3, 2, 1]])"
            ],
            "text/latex": "$\\displaystyle \\left[\\begin{matrix}1 & 2 & 3\\\\2 & 5 & 3\\\\3 & 2 & 1\\end{matrix}\\right]$"
          },
          "metadata": {}
        }
      ],
      "source": [
        "import sympy as sp\n",
        "from sympy import Matrix, symbols, Rational\n",
        "from IPython.display import display, Markdown\n",
        "\n",
        "class SymbolicMatrix:\n",
        "    def __init__(self, matrix):\n",
        "        self.matrix = Matrix(matrix).applyfunc(Rational)\n",
        "        self.operations = []\n",
        "        display(Markdown(\"**Initial Matrix:**\"))\n",
        "        display(self.matrix)  # Display the matrix upon initialization\n",
        "\n",
        "    def __repr__(self):\n",
        "        return repr(self.matrix)  # Use Matrix's repr\n",
        "\n",
        "    def __str__(self):\n",
        "        return str(self.matrix)  # Use Matrix's str\n",
        "\n",
        "    def _repr_latex_(self):\n",
        "        return self.matrix._repr_latex_()  # Delegate LaTeX display\n",
        "\n",
        "    def _validate_row_number(self, row):\n",
        "        if not isinstance(row, int):\n",
        "            raise TypeError(\"Row number must be an integer.\")\n",
        "        if row < 1 or row > self.matrix.rows:\n",
        "            raise IndexError(f\"Row number must be in the range from 1 to {self.matrix.rows}.\")\n",
        "        return row - 1\n",
        "\n",
        "    def _validate_col_number(self, col):\n",
        "        if not isinstance(col, int):\n",
        "            raise TypeError(\"Column number must be an integer.\")\n",
        "        if col < 1 or col > self.matrix.cols:\n",
        "            raise IndexError(f\"Column number must be in the range from 1 to {self.matrix.cols}.\")\n",
        "        return col - 1\n",
        "\n",
        "    # Row operations\n",
        "    def add_row(self, target_row, source_row, coefficient):\n",
        "        target_idx = self._validate_row_number(target_row)\n",
        "        source_idx = self._validate_row_number(source_row)\n",
        "        coefficient = Rational(coefficient)\n",
        "\n",
        "        self.matrix.row_op(target_idx, lambda v, j: v + coefficient * self.matrix[source_idx, j])\n",
        "        operation_str = f\"r{target_row} = r{target_row} + {coefficient}*r{source_row}\"\n",
        "        self.operations.append(operation_str)\n",
        "        display(Markdown(f\"**Operation:** {operation_str}\"))\n",
        "        display(self.matrix)\n",
        "\n",
        "    def multiply_row(self, row, coefficient):\n",
        "        row_idx = self._validate_row_number(row)\n",
        "        coefficient = Rational(coefficient)\n",
        "        self.matrix.row_op(row_idx, lambda v, _: coefficient * v)\n",
        "        operation_str = f\"r{row} = {coefficient}*r{row}\"\n",
        "        self.operations.append(operation_str)\n",
        "        display(Markdown(f\"**Operation:** {operation_str}\"))\n",
        "        display(self.matrix)\n",
        "\n",
        "    def swap_rows(self, row1, row2):\n",
        "        row1_idx = self._validate_row_number(row1)\n",
        "        row2_idx = self._validate_row_number(row2)\n",
        "        self.matrix.row_swap(row1_idx, row2_idx)\n",
        "        operation_str = f\"Swap r{row1} <-> r{row2}\"\n",
        "        self.operations.append(operation_str)\n",
        "        display(Markdown(f\"**Operation:** {operation_str}\"))\n",
        "        display(self.matrix)\n",
        "\n",
        "    # Column operations\n",
        "    def add_col(self, target_col, source_col, coefficient):\n",
        "        target_idx = self._validate_col_number(target_col)\n",
        "        source_idx = self._validate_col_number(source_col)\n",
        "        self.matrix.col_op(target_idx, lambda v, i: v + coefficient * self.matrix[i, source_idx])\n",
        "        operation_str = f\"c{target_col} = c{target_col} + {coefficient}*c{source_col}\"\n",
        "        self.operations.append(operation_str)\n",
        "        display(Markdown(f\"**Operation:** {operation_str}\"))\n",
        "        display(self.matrix)\n",
        "\n",
        "    def multiply_col(self, col, coefficient):\n",
        "        col_idx = self._validate_col_number(col)\n",
        "        self.matrix.col_op(col_idx, lambda v, _: coefficient * v)\n",
        "        operation_str = f\"c{col} = {coefficient}*c{col}\"\n",
        "        self.operations.append(operation_str)\n",
        "        display(Markdown(f\"**Operation:** {operation_str}\"))\n",
        "        display(self.matrix)\n",
        "\n",
        "    def swap_cols(self, col1, col2):\n",
        "        col1_idx = self._validate_col_number(col1)\n",
        "        col2_idx = self._validate_col_number(col2)\n",
        "        self.matrix.col_swap(col1_idx, col2_idx)\n",
        "        operation_str = f\"Swap c{col1} <-> c{col2}\"\n",
        "        self.operations.append(operation_str)\n",
        "        display(Markdown(f\"**Operation:** {operation_str}\"))\n",
        "        display(self.matrix)\n",
        "\n",
        "    # Display the operations performed\n",
        "    def print_operations(self):\n",
        "        display(Markdown(\"**Performed Operations:**\"))\n",
        "        for op in self.operations:\n",
        "            print(op)\n",
        "\n",
        "# Example usage\n",
        "mat = [[1, 2, 3], [2, 5, 3], [3, 2, 1]]\n",
        "\n",
        "m = SymbolicMatrix(mat) # instance of SymbolicMatrix class\n",
        "\n",
        "# define the same matrix for computation check\n",
        "original_matrix = sp.Matrix(mat)"
      ]
    },
    {
      "cell_type": "code",
      "execution_count": null,
      "metadata": {
        "id": "gPoEe9nu71U8",
        "outputId": "ba4fb1da-8441-481f-82d6-e70dd8cb1952"
      },
      "outputs": [
        {
          "data": {
            "text/markdown": [
              "**Operation:** r2 = r2 + -2*r1"
            ],
            "text/plain": [
              "<IPython.core.display.Markdown object>"
            ]
          },
          "metadata": {},
          "output_type": "display_data"
        },
        {
          "data": {
            "text/latex": [
              "$\\displaystyle \\left[\\begin{matrix}1 & 2 & 3\\\\0 & 1 & -3\\\\3 & 2 & 1\\end{matrix}\\right]$"
            ],
            "text/plain": [
              "Matrix([\n",
              "[1, 2,  3],\n",
              "[0, 1, -3],\n",
              "[3, 2,  1]])"
            ]
          },
          "metadata": {},
          "output_type": "display_data"
        }
      ],
      "source": [
        "m.add_row(2, 1, -2)"
      ]
    },
    {
      "cell_type": "code",
      "execution_count": null,
      "metadata": {
        "id": "QaVKaMk971U9",
        "outputId": "3ff82eba-1330-4fc2-a5c6-1df4c6d34974"
      },
      "outputs": [
        {
          "data": {
            "text/markdown": [
              "**Operation:** r3 = r3 + -3*r1"
            ],
            "text/plain": [
              "<IPython.core.display.Markdown object>"
            ]
          },
          "metadata": {},
          "output_type": "display_data"
        },
        {
          "data": {
            "text/latex": [
              "$\\displaystyle \\left[\\begin{matrix}1 & 2 & 3\\\\0 & 1 & -3\\\\0 & -4 & -8\\end{matrix}\\right]$"
            ],
            "text/plain": [
              "Matrix([\n",
              "[1,  2,  3],\n",
              "[0,  1, -3],\n",
              "[0, -4, -8]])"
            ]
          },
          "metadata": {},
          "output_type": "display_data"
        }
      ],
      "source": [
        "m.add_row(3, 1, -3)"
      ]
    },
    {
      "cell_type": "code",
      "execution_count": null,
      "metadata": {
        "id": "4Nrg91E471U9",
        "outputId": "c6e2d717-d7dc-400a-f3db-34d464546402"
      },
      "outputs": [
        {
          "data": {
            "text/markdown": [
              "**Operation:** r3 = r3 + 4*r2"
            ],
            "text/plain": [
              "<IPython.core.display.Markdown object>"
            ]
          },
          "metadata": {},
          "output_type": "display_data"
        },
        {
          "data": {
            "text/latex": [
              "$\\displaystyle \\left[\\begin{matrix}1 & 2 & 3\\\\0 & 1 & -3\\\\0 & 0 & -20\\end{matrix}\\right]$"
            ],
            "text/plain": [
              "Matrix([\n",
              "[1, 2,   3],\n",
              "[0, 1,  -3],\n",
              "[0, 0, -20]])"
            ]
          },
          "metadata": {},
          "output_type": "display_data"
        }
      ],
      "source": [
        "m.add_row(3, 2, 4)"
      ]
    },
    {
      "cell_type": "markdown",
      "metadata": {
        "id": "MstvY4fO71U9"
      },
      "source": [
        "The resulting matrix is an upper triangular matrix.\n",
        "\n",
        "### Determinant of a Triangular Matrix\n",
        "\n",
        "For a triangular matrix, the determinant is equal to the product of the elements on its diagonal."
      ]
    },
    {
      "cell_type": "code",
      "execution_count": null,
      "metadata": {
        "id": "KMs4nLbj71U9",
        "outputId": "4aa9ed77-6a65-4cc9-8175-36e3a8973146"
      },
      "outputs": [
        {
          "data": {
            "text/plain": [
              "True"
            ]
          },
          "execution_count": 5,
          "metadata": {},
          "output_type": "execute_result"
        }
      ],
      "source": [
        "# The determinant of a triangular matrix is the product of the diagonal elements!\n",
        "original_matrix.det() == 1 * 1 * (-20)"
      ]
    },
    {
      "cell_type": "markdown",
      "metadata": {
        "id": "RWGStfge71U9"
      },
      "source": [
        "---\n",
        "\n",
        "## Exercises for Students\n",
        "\n",
        "Perform row and column operations to reduce the following matrices to an upper triangular form and calculate their determinants by taking the product of the diagonal elements.\n",
        "\n",
        "1.\n",
        "$$\n",
        "A = \\begin{bmatrix}\n",
        "12 & 3 \\\\\n",
        "-18 & -4\n",
        "\\end{bmatrix}\n",
        "$$\n",
        "\n",
        "2.\n",
        "\n",
        "$$\n",
        "B = \\begin{bmatrix}\n",
        "1 & 2 & 3 \\\\\n",
        "4 & 5 & 6 \\\\\n",
        "7 & 8 & 9\n",
        "\\end{bmatrix}\n",
        "$$"
      ]
    },
    {
      "cell_type": "code",
      "source": [
        "import sympy as sp\n",
        "from sympy import Matrix, symbols, Rational\n",
        "from IPython.display import display, Markdown\n",
        "\n",
        "# Sembolik Matris İşlemleri Sınıfı\n",
        "class CustomMatrix:\n",
        "    def __init__(self, matrix_data):\n",
        "        self.matrix = Matrix(matrix_data).applyfunc(Rational)\n",
        "        self.history = []\n",
        "        display(Markdown(\"**Başlangıç Matrisi:**\"))\n",
        "        display(self.matrix)\n",
        "\n",
        "    def __repr__(self):\n",
        "        return repr(self.matrix)\n",
        "\n",
        "    def __str__(self):\n",
        "        return str(self.matrix)\n",
        "\n",
        "    def _repr_latex_(self):\n",
        "        return self.matrix._repr_latex_()\n",
        "\n",
        "    def _check_row_index(self, row_num):\n",
        "        if not isinstance(row_num, int):\n",
        "            raise TypeError(\"Satır numarası bir tam sayı olmalıdır.\")\n",
        "        if row_num < 1 or row_num > self.matrix.rows:\n",
        "            raise IndexError(f\"Satır numarası 1 ile {self.matrix.rows} arasında olmalıdır.\")\n",
        "        return row_num - 1\n",
        "\n",
        "    def _check_col_index(self, col_num):\n",
        "        if not isinstance(col_num, int):\n",
        "            raise TypeError(\"Sütun numarası bir tam sayı olmalıdır.\")\n",
        "        if col_num < 1 or col_num > self.matrix.cols:\n",
        "            raise IndexError(f\"Sütun numarası 1 ile {self.matrix.cols} arasında olmalıdır.\")\n",
        "        return col_num - 1\n",
        "\n",
        "    # Satır İşlemleri\n",
        "    def row_addition(self, target_row, source_row, scalar):\n",
        "        target_idx = self._check_row_index(target_row)\n",
        "        source_idx = self._check_row_index(source_row)\n",
        "        scalar = Rational(scalar)\n",
        "\n",
        "        self.matrix.row_op(target_idx, lambda val, col: val + scalar * self.matrix[source_idx, col])\n",
        "        operation_desc = f\"Satır {target_row} = Satır {target_row} + {scalar}*Satır {source_row}\"\n",
        "        self.history.append(operation_desc)\n",
        "        display(Markdown(f\"**İşlem:** {operation_desc}\"))\n",
        "        display(self.matrix)\n",
        "\n",
        "    def row_scaling(self, row, scalar):\n",
        "        row_idx = self._check_row_index(row)\n",
        "        scalar = Rational(scalar)\n",
        "        self.matrix.row_op(row_idx, lambda val, _: scalar * val)\n",
        "        operation_desc = f\"Satır {row} = {scalar}*Satır {row}\"\n",
        "        self.history.append(operation_desc)\n",
        "        display(Markdown(f\"**İşlem:** {operation_desc}\"))\n",
        "        display(self.matrix)\n",
        "\n",
        "    def row_swap(self, row1, row2):\n",
        "        idx1 = self._check_row_index(row1)\n",
        "        idx2 = self._check_row_index(row2)\n",
        "        self.matrix.row_swap(idx1, idx2)\n",
        "        operation_desc = f\"Satır {row1} ↔ Satır {row2}\"\n",
        "        self.history.append(operation_desc)\n",
        "        display(Markdown(f\"**İşlem:** {operation_desc}\"))\n",
        "        display(self.matrix)\n",
        "\n",
        "    # Sütun İşlemleri\n",
        "    def col_addition(self, target_col, source_col, scalar):\n",
        "        target_idx = self._check_col_index(target_col)\n",
        "        source_idx = self._check_col_index(source_col)\n",
        "        scalar = Rational(scalar)\n",
        "\n",
        "        self.matrix.col_op(target_idx, lambda val, row: val + scalar * self.matrix[row, source_idx])\n",
        "        operation_desc = f\"Sütun {target_col} = Sütun {target_col} + {scalar}*Sütun {source_col}\"\n",
        "        self.history.append(operation_desc)\n",
        "        display(Markdown(f\"**İşlem:** {operation_desc}\"))\n",
        "        display(self.matrix)\n",
        "\n",
        "    def col_scaling(self, col, scalar):\n",
        "        col_idx = self._check_col_index(col)\n",
        "        scalar = Rational(scalar)\n",
        "        self.matrix.col_op(col_idx, lambda val, _: scalar * val)\n",
        "        operation_desc = f\"Sütun {col} = {scalar}*Sütun {col}\"\n",
        "        self.history.append(operation_desc)\n",
        "        display(Markdown(f\"**İşlem:** {operation_desc}\"))\n",
        "        display(self.matrix)\n",
        "\n",
        "    def col_swap(self, col1, col2):\n",
        "        idx1 = self._check_col_index(col1)\n",
        "        idx2 = self._check_col_index(col2)\n",
        "        self.matrix.col_swap(idx1, idx2)\n",
        "        operation_desc = f\"Sütun {col1} ↔ Sütun {col2}\"\n",
        "        self.history.append(operation_desc)\n",
        "        display(Markdown(f\"**İşlem:** {operation_desc}\"))\n",
        "        display(self.matrix)\n",
        "\n",
        "    # İşlem Geçmişi\n",
        "    def show_history(self):\n",
        "        display(Markdown(\"**Gerçekleştirilen İşlemler:**\"))\n",
        "        for step in self.history:\n",
        "            print(step)\n",
        "\n",
        "# Örnek Kullanım\n",
        "initial_matrix = [[1, 2, 3], [2, 5, 3], [3, 2, 1]]\n",
        "\n",
        "cm = CustomMatrix(initial_matrix)\n",
        "\n",
        "# Orijinal matrisi sakla\n",
        "original_matrix = sp.Matrix(initial_matrix)\n",
        "\n",
        "# İşlemler\n",
        "cm.row_addition(2, 1, -2)\n",
        "cm.row_addition(3, 1, -3)\n",
        "cm.row_addition(3, 2, 4)\n",
        "\n",
        "# Determinant hesaplama\n",
        "print(original_matrix.det() == 1 * 1 * (-20))\n"
      ],
      "metadata": {
        "colab": {
          "base_uri": "https://localhost:8080/",
          "height": 397
        },
        "id": "d2jVUTEj8TaW",
        "outputId": "f4554494-9788-44cf-92cd-278ea3a20d8d"
      },
      "execution_count": 4,
      "outputs": [
        {
          "output_type": "display_data",
          "data": {
            "text/plain": [
              "<IPython.core.display.Markdown object>"
            ],
            "text/markdown": "**Başlangıç Matrisi:**"
          },
          "metadata": {}
        },
        {
          "output_type": "display_data",
          "data": {
            "text/plain": [
              "Matrix([\n",
              "[1, 2, 3],\n",
              "[2, 5, 3],\n",
              "[3, 2, 1]])"
            ],
            "text/latex": "$\\displaystyle \\left[\\begin{matrix}1 & 2 & 3\\\\2 & 5 & 3\\\\3 & 2 & 1\\end{matrix}\\right]$"
          },
          "metadata": {}
        },
        {
          "output_type": "display_data",
          "data": {
            "text/plain": [
              "<IPython.core.display.Markdown object>"
            ],
            "text/markdown": "**İşlem:** Satır 2 = Satır 2 + -2*Satır 1"
          },
          "metadata": {}
        },
        {
          "output_type": "display_data",
          "data": {
            "text/plain": [
              "Matrix([\n",
              "[1, 2,  3],\n",
              "[0, 1, -3],\n",
              "[3, 2,  1]])"
            ],
            "text/latex": "$\\displaystyle \\left[\\begin{matrix}1 & 2 & 3\\\\0 & 1 & -3\\\\3 & 2 & 1\\end{matrix}\\right]$"
          },
          "metadata": {}
        },
        {
          "output_type": "display_data",
          "data": {
            "text/plain": [
              "<IPython.core.display.Markdown object>"
            ],
            "text/markdown": "**İşlem:** Satır 3 = Satır 3 + -3*Satır 1"
          },
          "metadata": {}
        },
        {
          "output_type": "display_data",
          "data": {
            "text/plain": [
              "Matrix([\n",
              "[1,  2,  3],\n",
              "[0,  1, -3],\n",
              "[0, -4, -8]])"
            ],
            "text/latex": "$\\displaystyle \\left[\\begin{matrix}1 & 2 & 3\\\\0 & 1 & -3\\\\0 & -4 & -8\\end{matrix}\\right]$"
          },
          "metadata": {}
        },
        {
          "output_type": "display_data",
          "data": {
            "text/plain": [
              "<IPython.core.display.Markdown object>"
            ],
            "text/markdown": "**İşlem:** Satır 3 = Satır 3 + 4*Satır 2"
          },
          "metadata": {}
        },
        {
          "output_type": "display_data",
          "data": {
            "text/plain": [
              "Matrix([\n",
              "[1, 2,   3],\n",
              "[0, 1,  -3],\n",
              "[0, 0, -20]])"
            ],
            "text/latex": "$\\displaystyle \\left[\\begin{matrix}1 & 2 & 3\\\\0 & 1 & -3\\\\0 & 0 & -20\\end{matrix}\\right]$"
          },
          "metadata": {}
        },
        {
          "output_type": "stream",
          "name": "stdout",
          "text": [
            "True\n"
          ]
        }
      ]
    }
  ],
  "metadata": {
    "kernelspec": {
      "display_name": "Python 3",
      "language": "python",
      "name": "python3"
    },
    "language_info": {
      "codemirror_mode": {
        "name": "ipython",
        "version": 3
      },
      "file_extension": ".py",
      "mimetype": "text/x-python",
      "name": "python",
      "nbconvert_exporter": "python",
      "pygments_lexer": "ipython3",
      "version": "3.11.9"
    },
    "colab": {
      "provenance": []
    }
  },
  "nbformat": 4,
  "nbformat_minor": 0
}