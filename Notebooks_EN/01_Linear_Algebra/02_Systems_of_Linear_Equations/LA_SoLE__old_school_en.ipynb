{
  "cells": [
    {
      "cell_type": "markdown",
      "metadata": {
        "id": "hV7G5M-Xt-52"
      },
      "source": [
        "# School Method for Solving Systems of Linear Equations"
      ]
    },
    {
      "cell_type": "code",
      "execution_count": null,
      "metadata": {
        "id": "FMmEku8yt-53"
      },
      "outputs": [],
      "source": [
        "import sympy as sp\n",
        "from sympy import symbols, Eq, expand, solve\n",
        "\n",
        "class EnhancedEq(Eq):\n",
        "    def __add__(self, other):\n",
        "        return EnhancedEq(self.lhs + other.lhs, self.rhs + other.rhs)\n",
        "\n",
        "    def __sub__(self, other):\n",
        "        return EnhancedEq(self.lhs - other.lhs, self.rhs - other.rhs)\n",
        "\n",
        "    def __mul__(self, scalar):\n",
        "        return EnhancedEq(scalar * self.lhs, scalar * self.rhs)\n",
        "\n",
        "    def __rmul__(self, scalar):\n",
        "        return self.__mul__(scalar)\n",
        "\n",
        "    def simplify(self):\n",
        "        return EnhancedEq(expand(self.lhs), expand(self.rhs))\n",
        "\n",
        "    def substitute(self, *args, **kwargs):\n",
        "        return EnhancedEq(self.lhs.subs(*args, **kwargs), self.rhs.subs(*args, **kwargs))\n",
        "\n",
        "    def solve_for(self, symbol):\n",
        "        return solve(self, symbol)\n",
        "\n",
        "# Example usage:\n",
        "x, y = symbols('x y')\n",
        "\n",
        "# Define equations\n",
        "eq1 = EnhancedEq(2*x + y, 5)\n",
        "eq2 = EnhancedEq(x - y, 1)"
      ]
    },
    {
      "cell_type": "code",
      "execution_count": null,
      "metadata": {
        "id": "KJTdU_-at-53",
        "outputId": "d640732b-a8fc-4b1a-a864-9bc99e587f3a"
      },
      "outputs": [
        {
          "name": "stdout",
          "output_type": "stream",
          "text": [
            "First equation:\n"
          ]
        },
        {
          "data": {
            "text/latex": [
              "$\\displaystyle 2 x + y = 5$"
            ],
            "text/plain": [
              "Eq(2*x + y, 5)"
            ]
          },
          "execution_count": 2,
          "metadata": {},
          "output_type": "execute_result"
        }
      ],
      "source": [
        "print(\"First equation:\")\n",
        "eq1"
      ]
    },
    {
      "cell_type": "code",
      "execution_count": null,
      "metadata": {
        "id": "6vosTf5St-54",
        "outputId": "349daa74-9d41-4089-8cb2-7331b1a33a65"
      },
      "outputs": [
        {
          "name": "stdout",
          "output_type": "stream",
          "text": [
            "Second equation:\n"
          ]
        },
        {
          "data": {
            "text/latex": [
              "$\\displaystyle x - y = 1$"
            ],
            "text/plain": [
              "Eq(x - y, 1)"
            ]
          },
          "execution_count": 3,
          "metadata": {},
          "output_type": "execute_result"
        }
      ],
      "source": [
        "print(\"Second equation:\")\n",
        "eq2"
      ]
    },
    {
      "cell_type": "code",
      "execution_count": null,
      "metadata": {
        "id": "py9Buannt-54",
        "outputId": "51ed0542-c125-4c6c-e6b0-96b5b12bb158"
      },
      "outputs": [
        {
          "data": {
            "text/latex": [
              "$\\displaystyle 3 x = 6$"
            ],
            "text/plain": [
              "Eq(3*x, 6)"
            ]
          },
          "execution_count": 4,
          "metadata": {},
          "output_type": "execute_result"
        }
      ],
      "source": [
        "# Add the equations\n",
        "eq3 = eq1 + eq2\n",
        "eq3"
      ]
    },
    {
      "cell_type": "code",
      "execution_count": null,
      "metadata": {
        "id": "gKtNk6yst-54",
        "outputId": "993e9952-34a0-46ab-999f-681cccc2140e"
      },
      "outputs": [
        {
          "data": {
            "text/latex": [
              "$\\displaystyle 2$"
            ],
            "text/plain": [
              "2"
            ]
          },
          "execution_count": 5,
          "metadata": {},
          "output_type": "execute_result"
        }
      ],
      "source": [
        "# We have an equation with one unknown, so we can solve it\n",
        "sol_x = eq3.solve_for(x)[0]\n",
        "sol_x"
      ]
    },
    {
      "cell_type": "code",
      "execution_count": null,
      "metadata": {
        "id": "zj1bq-fft-55",
        "outputId": "eed9a026-bb35-4eaf-b8e4-737d9e8a3494"
      },
      "outputs": [
        {
          "data": {
            "text/latex": [
              "$\\displaystyle 2 - y = 1$"
            ],
            "text/plain": [
              "Eq(2 - y, 1)"
            ]
          },
          "execution_count": 6,
          "metadata": {},
          "output_type": "execute_result"
        }
      ],
      "source": [
        "# Substitute the solution into equation 2\n",
        "eq2 = eq2.substitute(x, sol_x)\n",
        "eq2"
      ]
    },
    {
      "cell_type": "code",
      "execution_count": null,
      "metadata": {
        "id": "Y44pQd44t-55",
        "outputId": "e80c1cde-f4ed-4c80-e4e4-255f23a7e26e"
      },
      "outputs": [
        {
          "data": {
            "text/latex": [
              "$\\displaystyle 1$"
            ],
            "text/plain": [
              "1"
            ]
          },
          "execution_count": 7,
          "metadata": {},
          "output_type": "execute_result"
        }
      ],
      "source": [
        "# We get an equation with one unknown, so we can solve it\n",
        "eq2.solve_for(y)[0]"
      ]
    },
    {
      "cell_type": "code",
      "execution_count": null,
      "metadata": {
        "id": "q2fHI_4Yt-55",
        "outputId": "3c8a8b56-118c-48c0-956c-e7ef2a7354f6"
      },
      "outputs": [
        {
          "data": {
            "text/plain": [
              "{x: 2, y: 1}"
            ]
          },
          "execution_count": 8,
          "metadata": {},
          "output_type": "execute_result"
        }
      ],
      "source": [
        "# Thus x=2, y=1\n",
        "# Verify with sympy\n",
        "sp.solve([eq1, eq2])"
      ]
    },
    {
      "cell_type": "markdown",
      "metadata": {
        "id": "1gUbJgFEt-55"
      },
      "source": [
        "---\n",
        "\n",
        "### Exercises for Students\n",
        "\n",
        "Solve the following systems of equations similarly to the example above:\n",
        "\n",
        "* $3x-2y=5, \\quad 2x+3y=7$,\n",
        "* $2x-3y=10, \\quad 4x+5y=20$,\n",
        "* $2x - y + z = 3, \\quad x + 2y - z = 1, \\quad 3x - y + 2z = 11$.\n",
        "* $2x-3y+4z+2t=2, \\quad 3x+2y-5z+3t=3, \\quad 4x-3y+2z-5t=4, \\quad 5x+4y-3z+2t=5$."
      ]
    },
    {
      "cell_type": "code",
      "source": [
        "import sympy as sp\n",
        "from sympy import symbols, Eq, expand, solve\n",
        "\n",
        "class EnhancedEq(Eq):\n",
        "    def __add__(self, other):\n",
        "        return EnhancedEq(self.lhs + other.lhs, self.rhs + other.rhs)\n",
        "\n",
        "    def __sub__(self, other):\n",
        "        return EnhancedEq(self.lhs - other.lhs, self.rhs - other.rhs)\n",
        "\n",
        "    def __mul__(self, scalar):\n",
        "        return EnhancedEq(scalar * self.lhs, scalar * self.rhs)\n",
        "\n",
        "    def __rmul__(self, scalar):\n",
        "        return self.__mul__(scalar)\n",
        "\n",
        "    def simplify(self):\n",
        "        return EnhancedEq(expand(self.lhs), expand(self.rhs))\n",
        "\n",
        "    def substitute(self, *args, **kwargs):\n",
        "        return EnhancedEq(self.lhs.subs(*args, **kwargs), self.rhs.subs(*args, **kwargs))\n",
        "\n",
        "    def solve_for(self, symbol):\n",
        "        return solve(self, symbol)\n",
        "\n",
        "# Exercise 1: 3x - 2y = 5, 2x + 3y = 7\n",
        "x, y = symbols('x y')\n",
        "eq1 = EnhancedEq(3*x - 2*y, 5)\n",
        "eq2 = EnhancedEq(2*x + 3*y, 7)\n",
        "\n",
        "eq3 = 3 * eq1 - 2 * eq2  # Eliminate y\n",
        "sol_x = eq3.solve_for(x)[0]\n",
        "eq2 = eq2.substitute(x, sol_x)\n",
        "sol_y = eq2.solve_for(y)[0]\n",
        "\n",
        "print(\"Exercise 1 Solution:\")\n",
        "print(f\"x = {sol_x}\")\n",
        "print(f\"y = {sol_y}\")\n",
        "print(f\"Verification: {sp.solve([eq1, eq2])}\")"
      ],
      "metadata": {
        "id": "gma_zTU4zlJD",
        "outputId": "c333285b-4691-4110-d6f6-053bbd92c951",
        "colab": {
          "base_uri": "https://localhost:8080/"
        }
      },
      "execution_count": 7,
      "outputs": [
        {
          "output_type": "stream",
          "name": "stdout",
          "text": [
            "Exercise 1 Solution:\n",
            "x = 12*y/5 + 1/5\n",
            "y = 11/13\n",
            "Verification: {x: 29/13, y: 11/13}\n"
          ]
        }
      ]
    }
  ],
  "metadata": {
    "kernelspec": {
      "display_name": "Python 3",
      "language": "python",
      "name": "python3"
    },
    "language_info": {
      "codemirror_mode": {
        "name": "ipython",
        "version": 3
      },
      "file_extension": ".py",
      "mimetype": "text/x-python",
      "name": "python",
      "nbconvert_exporter": "python",
      "pygments_lexer": "ipython3",
      "version": "3.11.9"
    },
    "colab": {
      "provenance": []
    }
  },
  "nbformat": 4,
  "nbformat_minor": 0
}