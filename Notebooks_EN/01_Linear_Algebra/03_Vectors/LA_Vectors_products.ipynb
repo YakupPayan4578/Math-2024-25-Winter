{
  "cells": [
    {
      "cell_type": "markdown",
      "metadata": {
        "id": "HucI5xF6e-aw"
      },
      "source": [
        "# Vectors - Scalar, Vector, Mixed Products\n",
        "\n",
        "## Scalar Product\n",
        "\n",
        "The scalar product (also called the dot product) of two vectors is an operation that returns a scalar value. It is defined as the sum of the products of the corresponding components of two vectors.\n",
        "\n",
        "For two vectors $\\mathbf{a}$ and $\\mathbf{b}$ in the space $\\mathbb{R}^n$, where:\n",
        "\n",
        "$$\n",
        "\\mathbf{a} = [a_1, a_2, \\dots, a_n], \\quad \\mathbf{b} = [b_1, b_2, \\dots, b_n]\n",
        "$$\n",
        "\n",
        "The scalar product is defined as follows:\n",
        "\n",
        "$$\n",
        "\\mathbf{a} \\cdot \\mathbf{b} = a_1b_1 + a_2b_2 + \\dots + a_nb_n = \\sum_{i=1}^{n} a_i b_i\n",
        "$$\n",
        "\n",
        "Example for three-dimensional space ($ \\mathbb{R}^3 $):\n",
        "\n",
        "For vectors $\\mathbf{a} = [a_1, a_2, a_3]$ and $\\mathbf{b} = [b_1, b_2, b_3]$, the scalar product is:\n",
        "\n",
        "$$\n",
        "\\mathbf{a} \\cdot \\mathbf{b} = a_1b_1 + a_2b_2 + a_3b_3\n",
        "$$\n",
        "\n",
        "The scalar product returns a number that measures the \"similarity of direction\" between two vectors. If $\\mathbf{a} \\cdot \\mathbf{b} = 0$, the vectors are perpendicular.\n",
        "\n",
        "Alternatively, the scalar product can be expressed as:\n",
        "\n",
        "$$\n",
        "\\mathbf{a} \\cdot \\mathbf{b} = \\|\\mathbf{a}\\| \\|\\mathbf{b}\\| \\cos(\\theta),\n",
        "$$\n",
        "which is the product of the magnitudes of vectors $\\mathbf{a}$ and $\\mathbf{b}$ multiplied by the cosine of the angle between them.\n",
        "\n",
        "## Vector Product\n",
        "\n",
        "The vector product (also called the cross product) is an operation that returns a new vector perpendicular to the two input vectors. It is defined only in three-dimensional space $ \\mathbb{R}^3 $.\n",
        "\n",
        "For two vectors $ \\mathbf{a} = [a_1, a_2, a_3] $ and $ \\mathbf{b} = [b_1, b_2, b_3] $, the vector product $ \\mathbf{a} \times \\mathbf{b} $ is defined as:\n",
        "\n",
        "$$ \\mathbf{a} \t\\times \\mathbf{b} =\n",
        "\\begin{vmatrix}\n",
        "\\mathbf{i} & \\mathbf{j} & \\mathbf{k} \\\\\n",
        "a_1 & a_2 & a_3 \\\\\n",
        "b_1 & b_2 & b_3\n",
        "\\end{vmatrix}\n",
        "$$\n",
        "\n",
        "Where $ \\mathbf{i}, \\mathbf{j}, \\mathbf{k} $ are unit vectors along the $ x, y, z $ axes. Interestingly, to calculate the vector product and obtain the resulting vector, we use the determinant (a scalar) of the matrix (a second-order tensor) whose rows are the basis vectors (vectors) and the components of the vectors (scalars).\n",
        "\n",
        "The vector product can be expressed in expanded form:\n",
        "\n",
        "$$ \\mathbf{a} \t\\times \\mathbf{b} = \\left( a_2b_3 - a_3b_2 \\right)\\mathbf{i} - \\left( a_1b_3 - a_3b_1 \\right)\\mathbf{j} + \\left( a_1b_2 - a_2b_1 \\right)\\mathbf{k} $$\n",
        "\n",
        "The result of the vector product is a new vector:\n",
        "\n",
        "$$ \\mathbf{c} = \\mathbf{a} \t\\times \\mathbf{b} = [a_2b_3 - a_3b_2, a_3b_1 - a_1b_3, a_1b_2 - a_2b_1] $$\n",
        "\n",
        "The vector product returns a vector $\\mathbf{c}$ perpendicular to the plane defined by $ \\mathbf{a} $ and $ \\mathbf{b} $, and its magnitude is equal to the area of the parallelogram whose sides are defined by the vectors $ \\mathbf{a} $ and $ \\mathbf{b} $\n",
        "$$\n",
        "|\\mathbf{c}| = |\\mathbf{a}| |\\mathbf{b}| \\sin \\theta\n",
        "$$\n",
        "\n",
        "where $\theta$ is the angle between the vectors. The direction of vector $\\vec{c}$ is determined by the right-hand rule.\n",
        "\n",
        "## Mixed Product\n",
        "\n",
        "The mixed product of three vectors $\\mathbf{a}, \\mathbf{b}, \\mathbf{c}$ is defined as:\n",
        "\n",
        "$$\n",
        "\\mathbf{a} \\cdot \\left( \\mathbf{b} \\times \\mathbf{c} \\right)\n",
        "$$\n",
        "\n",
        "This is equivalent to the scalar product $\\mathbf{a} \\times \\left( \\mathbf{b} \\times \\mathbf{c} \\right)$.\n",
        "\n",
        "The mixed product is equal to zero if the vectors $\\mathbf{a}, \\mathbf{b}, \\mathbf{c}$ are collinear or parallel.\n",
        "\n",
        "The volume of the parallelepiped defined by three vectors $\\mathbf{a}, \\mathbf{b}, \\mathbf{c}$ is equal to the absolute value of the mixed product of these vectors.\n",
        "\n",
        "## Implementation"
      ]
    },
    {
      "cell_type": "code",
      "execution_count": null,
      "metadata": {
        "id": "cD0_MW1Ue-a1"
      },
      "outputs": [],
      "source": [
        "import sympy as sp\n",
        "# Vector definitions\n",
        "a = sp.Matrix([1, 2, 3])\n",
        "b = sp.Matrix([4, 5, 6])\n",
        "c = sp.Matrix([7, 0, 9])\n",
        "d = sp.Matrix([0, 2, 0])"
      ]
    },
    {
      "cell_type": "code",
      "execution_count": null,
      "metadata": {
        "id": "zzMgjeyge-a5"
      },
      "outputs": [],
      "source": [
        "# Display vector c\n",
        "c"
      ]
    },
    {
      "cell_type": "code",
      "execution_count": null,
      "metadata": {
        "id": "GMC5U7k0e-a7"
      },
      "outputs": [],
      "source": [
        "# Adding vectors a and b\n",
        "a + b"
      ]
    },
    {
      "cell_type": "code",
      "execution_count": null,
      "metadata": {
        "id": "OCaHAaQse-a8"
      },
      "outputs": [],
      "source": [
        "# Dot product of a and b\n",
        "(1*4 + 2*5 + 3*6) == a.dot(b)"
      ]
    },
    {
      "cell_type": "code",
      "execution_count": null,
      "metadata": {
        "id": "wxUJYn7ke-a-"
      },
      "outputs": [],
      "source": [
        "# Cross product of a and c\n",
        "# a = [1, 2, 3]\n",
        "# c = [7, 0, 9]\n",
        "\n",
        "# As an aid, write the vectors as 3x3 matrices\n",
        "# i, j, k\n",
        "# 1, 2, 3\n",
        "# 7, 0, 9\n",
        "\n",
        "# Now\n",
        "comp1 = (2*9 - 3*0)\n",
        "comp2 = -(1*9 - 3*7)\n",
        "comp3 = (1*0 - 2*7)\n",
        "\n",
        "# Result\n",
        "sp.Matrix([comp1, comp2, comp3]) == a.cross(c)"
      ]
    },
    {
      "cell_type": "code",
      "execution_count": null,
      "metadata": {
        "id": "T1UeiG9be-bA"
      },
      "outputs": [],
      "source": [
        "# Perpendicularity of vectors\n",
        "# c = [7, 0, 9]\n",
        "# d = [0, 2, 0]\n",
        "\n",
        "# If the dot product of vectors is equal to 0, they are perpendicular\n",
        "dot_product = 7*0 + 0*2 + 9*0\n",
        "dot_product == 0"
      ]
    },
    {
      "cell_type": "markdown",
      "metadata": {
        "id": "KTRaD1KYe-bC"
      },
      "source": [
        "## Applications\n",
        "\n",
        "### Calculating the Angle Between Vectors\n",
        "\n",
        "$$\n",
        "\\cos \\theta = \\frac{\\mathbf{a} \\cdot \\mathbf{b}}{\\|\\mathbf{a}\\| \\|\\mathbf{b}\\|}\n",
        "$$\n",
        "\n",
        "### Checking Vector Perpendicularity\n",
        "\n",
        "Vectors $\\mathbf{a}$ and $\\mathbf{b}$ are perpendicular if their dot product is zero:\n",
        "$$\n",
        "\\mathbf{a} \\cdot \\mathbf{b} = 0\n",
        "\\quad \\Leftrightarrow \\quad\n",
        " \\mathbf{a} \\perp \\mathbf{b}\n",
        "$$\n",
        "\n",
        "### Finding Projections of Vectors onto Other Vectors\n",
        "\n",
        "$$\n",
        "\\text{Projection} = \\frac{\\mathbf{a} \\cdot \\mathbf{b}}{\\|\\mathbf{b}\\|}\n",
        "$$\n",
        "\n",
        "### Calculating Work Done by a Force in Physics\n",
        "\n",
        "For a force $\\mathbf{F} = (F_x, F_y, F_z)$ acting along a displacement $\\mathbf{d} = (d_x, d_y, d_z)$, work is calculated as:\n",
        "\n",
        "$$\n",
        "W = \\mathbf{F} \\cdot \\mathbf{d} = |\\mathbf{F}| |\\mathbf{d}| \\cos \\theta = F_x d_x + F_y d_y + F_z d_z\n",
        "$$\n",
        "\n",
        "### Torque\n",
        "\n",
        "In physics: torque is the vector product of the force vector and the arm of the force:\n",
        "\n",
        "$$\n",
        "\\mathbf{M} = \\mathbf{r} \\times \\mathbf{F}\n",
        "$$\n",
        "\n",
        "### Calculating the Area of a Parallelogram\n",
        "\n",
        "The area of a parallelogram spanned by two vectors:\n",
        "\n",
        "$$\n",
        "\\text{Area}_{r} = \\mathbf{a} \\times \\mathbf{b} = |\\mathbf{a}| |\\mathbf{b}| \\sin \\theta\n",
        "$$\n",
        "\n",
        "### Calculating the Area of a Triangle\n",
        "\n",
        "The area of a triangle spanned by two vectors $\\mathbf{a}$ and $\\mathbf{b}$:\n",
        "\n",
        "$$\n",
        "\\text{Area}_{t} = \\frac{1}{2} |\\mathbf{a} \\times \\mathbf{b}|\n",
        "$$\n",
        "\n",
        "### Calculating the Volume of Parallelepipeds and Tetrahedrons\n",
        "\n",
        "The mixed product of vectors is used to calculate the volume of parallelepipeds and tetrahedrons. For three vectors **$\\mathbf{a}$**, **$\\mathbf{b}$**, and **$\\mathbf{c}$**, the volume of the parallelepiped is given by:\n",
        "\n",
        "$$\n",
        "V = |\\mathbf{a} \\cdot (\\mathbf{b} \\times \\mathbf{c})|\n",
        "$$\n",
        "(Note: **| |** here denotes the absolute value, not the magnitude!)\n",
        "\n",
        "### Checking Coplanarity of Three Vectors\n",
        "\n",
        "If the mixed product of three vectors is equal to zero, it means that the vectors are coplanar. Otherwise, they form a tetrahedron.\n",
        "\n",
        "---\n",
        "\n",
        "## Student Exercises\n",
        "\n",
        "A. Perform the addition of vector $[2, 1]$ to vector $[-1, 1]$. Plot both vectors and their sum on a graph.\n",
        "\n",
        "B. Calculate the area of the triangle spanned by vectors $[2, 1]$ and $[-1, 1]$.\n",
        "\n",
        "C. Calculate the volume of the parallelepiped spanned by vectors $[2, 1]$, $[-1, 1]$, and $[1, 2]$.\n",
        "\n",
        "D. Check if vectors $[2, 1]$ and $[-1, 1]$ are perpendicular.\n",
        "\n",
        "E. Calculate the angle in degrees between vectors $[4,2,1]$ and $[1,3,2]$.\n",
        "\n",
        "F. For three-dimensional vectors: $\\mathbf{a}=[a_x, a_y, a_z]$, $\\mathbf{b}=[b_x, b_y, b_z]$, $\\mathbf{c}=[c_x, c_y, c_z]$, prove that the following identity is satisfied:\n",
        "\n",
        "$$\n",
        "\\mathbf{a} \\times (\\mathbf{b} \\times \\mathbf{c}) = (\\mathbf{a} \\cdot \\mathbf{c}) \\mathbf{b} - (\\mathbf{a} \\cdot \\mathbf{b}) \\mathbf{c}.\n",
        "$$"
      ]
    },
    {
      "cell_type": "code",
      "source": [
        "# Import necessary libraries\n",
        "import sympy as sp\n",
        "import matplotlib.pyplot as plt\n",
        "print(\"Exercise A\")\n",
        "\n",
        "# Define the vectors using SymPy\n",
        "v1 = sp.Matrix([2, 1])  # Vector [2, 1]\n",
        "v2 = sp.Matrix([-1, 1]) # Vector [-1, 1]\n",
        "\n",
        "# Perform the addition of the vectors\n",
        "v_sum = v1 + v2\n",
        "\n",
        "# Convert vectors to regular lists for plotting\n",
        "v1 = list(map(float, v1))      # Convert to floats\n",
        "v2 = list(map(float, v2))\n",
        "v_sum = list(map(float, v_sum))\n",
        "\n",
        "# Display the vectors and their sum\n",
        "print(\"Vector 1:\", v1)\n",
        "print(\"Vector 2:\", v2)\n",
        "print(\"Sum of vectors:\", v_sum)\n",
        "\n",
        "# Plot the vectors\n",
        "plt.figure(figsize=(8, 8))\n",
        "plt.quiver(0, 0, v1[0], v1[1], angles='xy', scale_units='xy', scale=1, color='r', label='v1: [2, 1]')\n",
        "plt.quiver(0, 0, v2[0], v2[1], angles='xy', scale_units='xy', scale=1, color='g', label='v2: [-1, 1]')\n",
        "plt.quiver(0, 0, v_sum[0], v_sum[1], angles='xy', scale_units='xy', scale=1, color='b', label='v_sum: [1, 2]')\n",
        "\n",
        "# Configure the plot\n",
        "plt.xlim(-2, 3)\n",
        "plt.ylim(-2, 3)\n",
        "plt.axhline(0, color='black', linewidth=0.5)\n",
        "plt.axvline(0, color='black', linewidth=0.5)\n",
        "plt.grid(color='gray', linestyle='--', linewidth=0.5)\n",
        "plt.gca().set_aspect('equal', adjustable='box')\n",
        "plt.legend()\n",
        "plt.title('Vector Addition')\n",
        "plt.show()\n"
      ],
      "metadata": {
        "id": "wSadF0f8tDrE",
        "outputId": "f8ec30e1-cfd1-4f9f-e6f7-dc2b1eafae6c",
        "colab": {
          "base_uri": "https://localhost:8080/",
          "height": 768
        }
      },
      "execution_count": 3,
      "outputs": [
        {
          "output_type": "stream",
          "name": "stdout",
          "text": [
            "Exercise A\n",
            "Vector 1: [2.0, 1.0]\n",
            "Vector 2: [-1.0, 1.0]\n",
            "Sum of vectors: [1.0, 2.0]\n"
          ]
        },
        {
          "output_type": "display_data",
          "data": {
            "text/plain": [
              "<Figure size 800x800 with 1 Axes>"
            ],
            "image/png": "[encoded data removed]"
          },
          "metadata": {}
        }
      ]
    },
    {
      "cell_type": "code",
      "source": [
        "# Import necessary library\n",
        "import sympy as sp\n",
        "print(\"Exercise B\")\n",
        "# Define the vectors\n",
        "v1 = sp.Matrix([2, 1])  # Vector [2, 1]\n",
        "v2 = sp.Matrix([-1, 1]) # Vector [-1, 1]\n",
        "\n",
        "# Create a 2x2 matrix using the vectors\n",
        "matrix = sp.Matrix([[v1[0], v2[0]], [v1[1], v2[1]]])\n",
        "\n",
        "# Calculate the determinant of the matrix\n",
        "parallelogram_area = abs(matrix.det())\n",
        "\n",
        "# Calculate the area of the triangle (half the area of the parallelogram)\n",
        "triangle_area = parallelogram_area / 2\n",
        "\n",
        "# Display the results\n",
        "print(\"Area of the parallelogram spanned by the vectors:\", parallelogram_area)\n",
        "print(\"Area of the triangle spanned by the vectors:\", triangle_area)\n"
      ],
      "metadata": {
        "id": "KTAH1PZDtoxg",
        "outputId": "db710665-561d-4fa1-e34b-e3566f445714",
        "colab": {
          "base_uri": "https://localhost:8080/"
        }
      },
      "execution_count": 6,
      "outputs": [
        {
          "output_type": "stream",
          "name": "stdout",
          "text": [
            "Exercise B\n",
            "Area of the parallelogram spanned by the vectors: 3\n",
            "Area of the triangle spanned by the vectors: 3/2\n"
          ]
        }
      ]
    },
    {
      "cell_type": "code",
      "source": [
        "# Import necessary library\n",
        "import sympy as sp\n",
        "print(\"Exercise C\")\n",
        "# Define the 2D vectors\n",
        "v1 = sp.Matrix([2, 1])  # Vector [2, 1]\n",
        "v2 = sp.Matrix([-1, 1]) # Vector [-1, 1]\n",
        "\n",
        "# Create a 2x2 matrix using the vectors\n",
        "matrix = sp.Matrix([[v1[0], v2[0]], [v1[1], v2[1]]])\n",
        "\n",
        "# Calculate the determinant of the matrix to find the area of the parallelogram\n",
        "parallelogram_area = abs(matrix.det())\n",
        "\n",
        "# Calculate the area of the triangle (half the area of the parallelogram)\n",
        "triangle_area = parallelogram_area / 2\n",
        "\n",
        "# Display the results\n",
        "print(\"Area of the parallelogram spanned by the vectors:\", parallelogram_area)\n",
        "print(\"Area of the triangle spanned by the vectors:\", triangle_area)\n"
      ],
      "metadata": {
        "id": "99UFBubfuW0o",
        "outputId": "c8c5ca19-d2a1-462d-dc70-64add375f4e1",
        "colab": {
          "base_uri": "https://localhost:8080/"
        }
      },
      "execution_count": 10,
      "outputs": [
        {
          "output_type": "stream",
          "name": "stdout",
          "text": [
            "Exercise C\n",
            "Area of the parallelogram spanned by the vectors: 3\n",
            "Area of the triangle spanned by the vectors: 3/2\n"
          ]
        }
      ]
    },
    {
      "cell_type": "code",
      "source": [
        "# Import necessary library\n",
        "import sympy as sp\n",
        "print(\"Exercise D\")\n",
        "# Define the 2D vectors\n",
        "v1 = sp.Matrix([2, 1])  # Vector [2, 1]\n",
        "v2 = sp.Matrix([-1, 1]) # Vector [-1, 1]\n",
        "\n",
        "# Calculate the dot product of the vectors\n",
        "dot_product = v1.dot(v2)\n",
        "\n",
        "# Check if the dot product is zero (which indicates perpendicular vectors)\n",
        "if dot_product == 0:\n",
        "    print(\"The vectors are perpendicular.\")\n",
        "else:\n",
        "    print(\"The vectors are not perpendicular.\")\n"
      ],
      "metadata": {
        "id": "StlgCWX4vXwh",
        "outputId": "85348ab4-c764-488b-f8f1-b6019f778a5b",
        "colab": {
          "base_uri": "https://localhost:8080/"
        }
      },
      "execution_count": 12,
      "outputs": [
        {
          "output_type": "stream",
          "name": "stdout",
          "text": [
            "Exercise D\n",
            "The vectors are not perpendicular.\n"
          ]
        }
      ]
    },
    {
      "cell_type": "code",
      "source": [
        "# Import necessary library\n",
        "import sympy as sp\n",
        "import math\n",
        "print(\"Exercise E\")\n",
        "# Define the 3D vectors\n",
        "v1 = sp.Matrix([4, 2, 1])  # Vector [4, 2, 1]\n",
        "v2 = sp.Matrix([1, 3, 2])  # Vector [1, 3, 2]\n",
        "\n",
        "# Calculate the dot product of the vectors\n",
        "dot_product = v1.dot(v2)\n",
        "\n",
        "# Calculate the magnitudes (norms) of the vectors\n",
        "v1_norm = v1.norm()\n",
        "v2_norm = v2.norm()\n",
        "\n",
        "# Calculate the cosine of the angle using the formula\n",
        "cos_angle = dot_product / (v1_norm * v2_norm)\n",
        "\n",
        "# Calculate the angle in radians and then convert to degrees\n",
        "angle_radians = sp.acos(cos_angle)\n",
        "angle_degrees = math.degrees(angle_radians)\n",
        "\n",
        "# Display the result\n",
        "print(f\"The angle between the vectors is {angle_degrees} degrees.\")\n"
      ],
      "metadata": {
        "id": "9sXx06WXvmaH",
        "outputId": "c9bc5d47-0591-4b68-fb1a-dd4284ced269",
        "colab": {
          "base_uri": "https://localhost:8080/"
        }
      },
      "execution_count": 14,
      "outputs": [
        {
          "output_type": "stream",
          "name": "stdout",
          "text": [
            "Exercise E\n",
            "The angle between the vectors is 45.58469140280703 degrees.\n"
          ]
        }
      ]
    },
    {
      "cell_type": "code",
      "source": [
        "# Import necessary library\n",
        "import sympy as sp\n",
        "print(\"Exercise F\")\n",
        "# Define the 3D vectors a, b, and c\n",
        "ax, ay, az = sp.symbols('ax ay az')\n",
        "bx, by, bz = sp.symbols('bx by bz')\n",
        "cx, cy, cz = sp.symbols('cx cy cz')\n",
        "\n",
        "a = sp.Matrix([ax, ay, az])  # Vector a\n",
        "b = sp.Matrix([bx, by, bz])  # Vector b\n",
        "c = sp.Matrix([cx, cy, cz])  # Vector c\n",
        "\n",
        "# Left-hand side: a × (b × c)\n",
        "lhs = a.cross(b.cross(c))\n",
        "\n",
        "# Right-hand side: (a ⋅ c)b - (a ⋅ b)c\n",
        "rhs = (a.dot(c) * b) - (a.dot(b) * c)\n",
        "\n",
        "# Simplify both sides\n",
        "lhs_simplified = sp.simplify(lhs)\n",
        "rhs_simplified = sp.simplify(rhs)\n",
        "\n",
        "# Check if both sides are equal\n",
        "if lhs_simplified == rhs_simplified:\n",
        "    print(\"The identity is satisfied.\")\n",
        "else:\n",
        "    print(\"The identity is not satisfied.\")\n"
      ],
      "metadata": {
        "id": "uxsG8KQxv2sJ",
        "outputId": "09056517-9cd7-41fa-f3fa-f0785abb6392",
        "colab": {
          "base_uri": "https://localhost:8080/"
        }
      },
      "execution_count": 16,
      "outputs": [
        {
          "output_type": "stream",
          "name": "stdout",
          "text": [
            "Exercise F\n",
            "The identity is not satisfied.\n"
          ]
        }
      ]
    }
  ],
  "metadata": {
    "kernelspec": {
      "display_name": "Python 3 (ipykernel)",
      "language": "python",
      "name": "python3",
      "path": "/media/dch/Disk2/Vizja/Math-2024-25-Winter/.venv/share/jupyter/kernels/python3"
    },
    "colab": {
      "provenance": []
    }
  },
  "nbformat": 4,
  "nbformat_minor": 0
}