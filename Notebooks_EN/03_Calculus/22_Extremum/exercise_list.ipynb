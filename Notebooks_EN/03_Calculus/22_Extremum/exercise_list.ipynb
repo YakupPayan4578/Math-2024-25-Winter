{
  "cells": [
    {
      "cell_type": "markdown",
      "metadata": {
        "id": "view-in-github",
        "colab_type": "text"
      },
      "source": [
        "<a href=\"https://colab.research.google.com/github/YakupPayan4578/Math-2024-25-Winter/blob/main/Notebooks_EN/03_Calculus/22_Extremum/exercise_list.ipynb\" target=\"_parent\"><img src=\"https://colab.research.google.com/assets/colab-badge.svg\" alt=\"Open In Colab\"/></a>"
      ]
    },
    {
      "cell_type": "markdown",
      "source": [
        "## Extremum\n",
        "\n",
        "6. The profit function is $P(u) = -2u^2 + 50u - 300$, where $u$ is the number of units sold. Find the number of units that maximize profit.\n",
        "\n",
        "7. You have 10 meters of string, and you need to use it to enclose the largest possible rectangular. Find the dimensions of the rectangle.\n",
        "\n",
        "8. Find extremum od $f(x) = x^2 + 3x - 5$.\n",
        "\n",
        "9. Find extremum of $f(x) =\\frac{x^2+2x+1}{x-1}$.\n",
        "\n"
      ],
      "metadata": {
        "id": "JI8p8l1MhxGT"
      },
      "id": "JI8p8l1MhxGT"
    }
  ],
  "metadata": {
    "kernelspec": {
      "display_name": "Python 3 (ipykernel)",
      "language": "python",
      "name": "python3"
    },
    "language_info": {
      "codemirror_mode": {
        "name": "ipython",
        "version": 3
      },
      "file_extension": ".py",
      "mimetype": "text/x-python",
      "name": "python",
      "nbconvert_exporter": "python",
      "pygments_lexer": "ipython3",
      "version": "3.12.7"
    },
    "colab": {
      "provenance": [],
      "include_colab_link": true
    }
  },
  "nbformat": 4,
  "nbformat_minor": 5
}